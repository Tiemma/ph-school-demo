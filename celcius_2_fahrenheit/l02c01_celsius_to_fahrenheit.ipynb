{
 "cells": [
  {
   "cell_type": "markdown",
   "metadata": {
    "colab_type": "text",
    "id": "HnKx50tv5aZD"
   },
   "source": [
    "##### Copyright 2018 The TensorFlow Authors."
   ]
  },
  {
   "cell_type": "code",
   "execution_count": null,
   "metadata": {
    "cellView": "form",
    "colab": {},
    "colab_type": "code",
    "id": "IwtS_OXU5cWG"
   },
   "outputs": [],
   "source": [
    "#@title Licensed under the Apache License, Version 2.0 (the \"License\");\n",
    "# you may not use this file except in compliance with the License.\n",
    "# You may obtain a copy of the License at\n",
    "#\n",
    "# https://www.apache.org/licenses/LICENSE-2.0\n",
    "#\n",
    "# Unless required by applicable law or agreed to in writing, software\n",
    "# distributed under the License is distributed on an \"AS IS\" BASIS,\n",
    "# WITHOUT WARRANTIES OR CONDITIONS OF ANY KIND, either express or implied.\n",
    "# See the License for the specific language governing permissions and\n",
    "# limitations under the License."
   ]
  },
  {
   "cell_type": "markdown",
   "metadata": {
    "colab_type": "text",
    "id": "YHI3vyhv5p85"
   },
   "source": [
    "# The Basics: Training Your First Model"
   ]
  },
  {
   "cell_type": "markdown",
   "metadata": {
    "colab_type": "text",
    "id": "_wJ2E7jV5tN5"
   },
   "source": [
    "<table class=\"tfo-notebook-buttons\" align=\"left\">\n",
    "  <td>\n",
    "    <a target=\"_blank\" href=\"https://colab.research.google.com/github/tensorflow/examples/blob/master/courses/udacity_intro_to_tensorflow_for_deep_learning/l02c01_celsius_to_fahrenheit.ipynb\"><img src=\"https://www.tensorflow.org/images/colab_logo_32px.png\" />Run in Google Colab</a>\n",
    "  </td>\n",
    "  <td>\n",
    "    <a target=\"_blank\" href=\"https://github.com/tensorflow/examples/blob/master/courses/udacity_intro_to_tensorflow_for_deep_learning/l02c01_celsius_to_fahrenheit.ipynb\"><img src=\"https://www.tensorflow.org/images/GitHub-Mark-32px.png\" />View source on GitHub</a>\n",
    "  </td>\n",
    "</table>"
   ]
  },
  {
   "cell_type": "markdown",
   "metadata": {
    "colab_type": "text",
    "id": "F8YVA_634OFk"
   },
   "source": [
    "Welcome to this Colab where you will train your first Machine Learning model!\n",
    "\n",
    "We'll try to keep things simple here, and only introduce basic concepts. Later Colabs will cover more advanced problems.\n",
    "\n",
    "The problem we will solve is to convert from Celsius to Fahrenheit, where the approximate formula is:\n",
    "\n",
    "$$ f = c \\times 1.8 + 32 $$\n",
    "\n",
    "\n",
    "Of course, it would be simple enough to create a conventional Python function that directly performs this calculation, but that wouldn't be machine learning.\n",
    "\n",
    "\n",
    "Instead, we will give TensorFlow some sample Celsius values (0, 8, 15, 22, 38) and their corresponding Fahrenheit values (32, 46, 59, 72, 100).\n",
    "Then, we will train a model that figures out the above formula through the training process."
   ]
  },
  {
   "cell_type": "markdown",
   "metadata": {
    "colab_type": "text",
    "id": "fA93WUy1zzWf"
   },
   "source": [
    "## Import dependencies\n",
    "\n",
    "First, import TensorFlow. Here, we're calling it `tf` for ease of use. We also tell it to only display errors.\n",
    "\n",
    "Next, import [NumPy](http://www.numpy.org/) as `np`. Numpy helps us to represent our data as highly performant lists."
   ]
  },
  {
   "cell_type": "code",
   "execution_count": 3,
   "metadata": {
    "colab": {},
    "colab_type": "code",
    "id": "-ZMgCvSRFqxE"
   },
   "outputs": [
    {
     "name": "stdout",
     "output_type": "stream",
     "text": [
      "Collecting tensorflow\n",
      "  Downloading tensorflow-2.2.0-cp37-cp37m-manylinux2010_x86_64.whl (516.2 MB)\n",
      "\u001b[K     |████████████████████████████████| 516.2 MB 2.1 kB/s eta 0:00:011  |                                | 409 kB 233 kB/s eta 0:36:52     |                                | 1.3 MB 545 kB/s eta 0:15:45     |                                | 1.6 MB 583 kB/s eta 0:14:43     |▎                               | 4.2 MB 459 kB/s eta 0:18:33     |▍                               | 5.7 MB 279 kB/s eta 0:30:25     |▍                               | 5.8 MB 279 kB/s eta 0:30:25     |▍                               | 5.9 MB 279 kB/s eta 0:30:25     |▍                               | 5.9 MB 279 kB/s eta 0:30:24     |▍                               | 7.1 MB 430 kB/s eta 0:19:43     |▌                               | 8.2 MB 543 kB/s eta 0:15:34     |▊                               | 12.0 MB 859 kB/s eta 0:09:47     |█                               | 14.8 MB 1.6 MB/s eta 0:05:19     |█                               | 15.1 MB 2.3 MB/s eta 0:03:37     |█                               | 16.0 MB 2.3 MB/s eta 0:03:36     |█▎                              | 20.4 MB 757 kB/s eta 0:10:55     |█▍                              | 21.6 MB 757 kB/s eta 0:10:53     |█▌                              | 23.3 MB 757 kB/s eta 0:10:51     |█▊                              | 28.7 MB 3.6 MB/s eta 0:02:14     |█▉                              | 28.9 MB 3.6 MB/s eta 0:02:14     |██                              | 33.8 MB 3.9 MB/s eta 0:02:05     |██▏                             | 35.6 MB 10.5 MB/s eta 0:00:46     |██▋                             | 42.4 MB 10.5 MB/s eta 0:00:46     |██▋                             | 42.9 MB 10.5 MB/s eta 0:00:46     |██▊                             | 44.3 MB 8.2 MB/s eta 0:00:58     |███                             | 47.7 MB 8.2 MB/s eta 0:00:58     |███                             | 48.0 MB 8.2 MB/s eta 0:00:57     |███▌                            | 55.8 MB 6.5 MB/s eta 0:01:12     |███▋                            | 58.5 MB 6.5 MB/s eta 0:01:11     |████                            | 65.9 MB 9.3 MB/s eta 0:00:49     |████▊                           | 75.4 MB 8.2 MB/s eta 0:00:54     |█████                           | 79.5 MB 8.2 MB/s eta 0:00:53     |█████                           | 79.8 MB 8.2 MB/s eta 0:00:53     |█████▌                          | 88.2 MB 41.4 MB/s eta 0:00:11     |█████▌                          | 88.9 MB 41.4 MB/s eta 0:00:11     |█████▌                          | 88.9 MB 41.4 MB/s eta 0:00:11     |█████▊                          | 93.0 MB 50 kB/s eta 2:20:09     |█████▉                          | 93.3 MB 6.5 MB/s eta 0:01:05     |█████▉                          | 94.8 MB 6.5 MB/s eta 0:01:05     |██████▎                         | 100.8 MB 6.2 MB/s eta 0:01:08     |██████▎                         | 101.7 MB 6.2 MB/s eta 0:01:08     |██████▋                         | 107.4 MB 17.2 MB/s eta 0:00:24     |██████▉                         | 110.9 MB 3.6 MB/s eta 0:01:52     |███████                         | 111.8 MB 3.6 MB/s eta 0:01:52     |███████                         | 112.4 MB 788 kB/s eta 0:08:33     |███████▏                        | 116.4 MB 788 kB/s eta 0:08:27     |███████▌                        | 120.9 MB 12.2 MB/s eta 0:00:33     |████████                        | 129.0 MB 3.6 MB/s eta 0:01:50     |████████▎                       | 133.7 MB 809 kB/s eta 0:07:53     |████████▎                       | 134.0 MB 809 kB/s eta 0:07:52     |████████▎                       | 134.1 MB 809 kB/s eta 0:07:52     |████████▎                       | 134.3 MB 809 kB/s eta 0:07:52     |████████▍                       | 134.8 MB 809 kB/s eta 0:07:51     |████████▍                       | 135.8 MB 3.9 MB/s eta 0:01:37     |████████▋                       | 138.1 MB 3.0 MB/s eta 0:02:07     |█████████                       | 144.0 MB 9.2 MB/s eta 0:00:41     |█████████                       | 144.1 MB 1.5 MB/s eta 0:04:07     |█████████                       | 144.7 MB 1.5 MB/s eta 0:04:06     |█████████▏                      | 147.9 MB 2.6 MB/s eta 0:02:21     |█████████▏                      | 148.0 MB 2.6 MB/s eta 0:02:21     |█████████▏                      | 148.2 MB 2.6 MB/s eta 0:02:21     |█████████▏                      | 148.3 MB 2.6 MB/s eta 0:02:21     |█████████▏                      | 148.6 MB 2.6 MB/s eta 0:02:21     |█████████▎                      | 149.1 MB 2.6 MB/s eta 0:02:21     |█████████▌                      | 154.1 MB 2.0 MB/s eta 0:03:05     |█████████▋                      | 154.8 MB 2.0 MB/s eta 0:03:04     |█████████▋                      | 155.1 MB 2.0 MB/s eta 0:03:04     |█████████▊                      | 156.1 MB 1.6 MB/s eta 0:03:47     |█████████▊                      | 157.3 MB 1.6 MB/s eta 0:03:47     |██████████                      | 160.9 MB 810 kB/s eta 0:07:19     |██████████▏                     | 163.7 MB 1.9 MB/s eta 0:03:02     |██████████▍                     | 168.4 MB 171 kB/s eta 0:33:54     |██████████▌                     | 168.9 MB 162 kB/s eta 0:35:39     |██████████▌                     | 170.3 MB 163 kB/s eta 0:35:13     |██████████▋                     | 170.7 MB 243 kB/s eta 0:23:39     |██████████▋                     | 170.7 MB 243 kB/s eta 0:23:39     |██████████▋                     | 171.0 MB 155 kB/s eta 0:37:02     |██████████▊                     | 172.5 MB 291 kB/s eta 0:19:42     |██████████▊                     | 173.6 MB 476 kB/s eta 0:11:59     |██████████▉                     | 174.3 MB 583 kB/s eta 0:09:47     |███████████                     | 175.8 MB 1.0 MB/s eta 0:05:29     |███████████                     | 176.2 MB 1.0 MB/s eta 0:05:29     |███████████                     | 177.6 MB 1.2 MB/s eta 0:04:45     |███████████                     | 177.9 MB 1.2 MB/s eta 0:04:45     |███████████                     | 179.0 MB 1.3 MB/s eta 0:04:27     |███████████▎                    | 182.8 MB 459 kB/s eta 0:12:06     |███████████▍                    | 184.0 MB 1.0 MB/s eta 0:05:30     |███████████▍                    | 184.2 MB 1.0 MB/s eta 0:05:30     |███████████▌                    | 185.1 MB 960 kB/s eta 0:05:45     |███████████▌                    | 185.9 MB 1.0 MB/s eta 0:05:29     |███████████▋                    | 186.5 MB 1.0 MB/s eta 0:05:29     |███████████▋                    | 187.1 MB 904 kB/s eta 0:06:04     |███████████▊                    | 188.7 MB 300 kB/s eta 0:18:10     |███████████▊                    | 189.7 MB 406 kB/s eta 0:13:24     |███████████▉                    | 190.2 MB 481 kB/s eta 0:11:17     |███████████▉                    | 190.3 MB 481 kB/s eta 0:11:17     |███████████▉                    | 190.7 MB 437 kB/s eta 0:12:25     |████████████                    | 191.9 MB 547 kB/s eta 0:09:53     |████████████                    | 193.4 MB 1.0 MB/s eta 0:05:12     |████████████                    | 193.7 MB 1.0 MB/s eta 0:05:11     |████████████▏                   | 196.4 MB 805 kB/s eta 0:06:37     |████████████▏                   | 197.2 MB 805 kB/s eta 0:06:36     |████████████▎                   | 197.2 MB 805 kB/s eta 0:06:36     |████████████▎                   | 197.7 MB 805 kB/s eta 0:06:36     |████████████▎                   | 198.7 MB 4.1 MB/s eta 0:01:18     |████████████▋                   | 203.9 MB 1.7 MB/s eta 0:03:01     |████████████▋                   | 204.1 MB 1.7 MB/s eta 0:03:01     |█████████████▍                  | 216.6 MB 1.4 MB/s eta 0:03:31     |██████████████▌                 | 234.5 MB 6.4 MB/s eta 0:00:44     |███████████████▏                | 244.6 MB 8.1 MB/s eta 0:00:34     |███████████████▎                | 246.8 MB 1.3 MB/s eta 0:03:30     |███████████████▎                | 247.3 MB 1.3 MB/s eta 0:03:30     |████████████████▎               | 262.3 MB 8.6 MB/s eta 0:00:30     |████████████████▌               | 266.6 MB 12.5 MB/s eta 0:00:20     |█████████████████               | 274.6 MB 34.0 MB/s eta 0:00:08     |█████████████████               | 275.3 MB 34.0 MB/s eta 0:00:08     |█████████████████▋              | 283.3 MB 1.1 MB/s eta 0:03:37     |█████████████████▋              | 284.5 MB 1.1 MB/s eta 0:03:36     |█████████████████▉              | 287.2 MB 1.7 MB/s eta 0:02:14     |██████████████████              | 291.6 MB 1.7 MB/s eta 0:02:12     |██████████████████▎             | 295.1 MB 1.7 MB/s eta 0:02:09     |██████████████████▌             | 299.3 MB 6.1 MB/s eta 0:00:36     |██████████████████▋             | 299.7 MB 6.1 MB/s eta 0:00:36     |███████████████████             | 305.0 MB 6.1 MB/s eta 0:00:35     |███████████████████▎            | 311.1 MB 11.6 MB/s eta 0:00:18     |███████████████████▌            | 314.0 MB 11.6 MB/s eta 0:00:18     |████████████████████            | 321.4 MB 4.4 MB/s eta 0:00:45     |████████████████████▋           | 332.8 MB 7.8 MB/s eta 0:00:24     |█████████████████████▌          | 346.6 MB 4.9 MB/s eta 0:00:35     |█████████████████████▊          | 349.9 MB 4.9 MB/s eta 0:00:35     |██████████████████████▌         | 363.5 MB 5.5 MB/s eta 0:00:28     |███████████████████████         | 372.1 MB 7.9 MB/s eta 0:00:19     |███████████████████████▊        | 381.8 MB 10.3 MB/s eta 0:00:14     |████████████████████████        | 387.3 MB 6.0 MB/s eta 0:00:22     |████████████████████████▎       | 391.5 MB 4.1 MB/s eta 0:00:31     |████████████████████████▍       | 393.5 MB 4.1 MB/s eta 0:00:30��████████████████▌       | 395.0 MB 4.1 MB/s eta 0:00:30     |█████████████████████████       | 402.1 MB 12.4 MB/s eta 0:00:10     |█████████████████████████▊      | 414.4 MB 6.1 MB/s eta 0:00:17     |██████████████████████████      | 418.1 MB 6.1 MB/s eta 0:00:17     |██████████████████████████▎     | 424.2 MB 4.8 MB/s eta 0:00:20 | 430.3 MB 9.5 MB/s eta 0:00:10     |██████████████████████████▊     | 430.6 MB 9.5 MB/s eta 0:00:10     |███████████████████████████▏    | 437.6 MB 3.1 MB/s eta 0:00:26     |███████████████████████████▏    | 438.8 MB 3.1 MB/s eta 0:00:26     |███████████████████████████▋    | 444.7 MB 3.1 MB/s eta 0:00:24     |████████████████████████████    | 452.4 MB 4.2 MB/s eta 0:00:16��███████████████████▋   | 460.9 MB 8.3 MB/s eta 0:00:07     |████████████████████████████▉   | 465.4 MB 8.3 MB/s eta 0:00:07     |█████████████████████████████   | 468.8 MB 12.6 MB/s eta 0:00:04     |█████████████████████████████▋  | 477.0 MB 7.4 MB/s eta 0:00:06     |██████████████████████████████▎ | 489.3 MB 1.3 MB/s eta 0:00:225 MB 6.8 MB/s eta 0:00:03     |███████████████████████████████▏| 502.0 MB 6.8 MB/s eta 0:00:03     |███████████████████████████████▍| 506.2 MB 25.9 MB/s eta 0:00:01\n",
      "\u001b[?25hCollecting keras-preprocessing>=1.1.0\n",
      "  Downloading Keras_Preprocessing-1.1.2-py2.py3-none-any.whl (42 kB)\n",
      "\u001b[K     |████████████████████████████████| 42 kB 749 kB/s eta 0:00:01\n",
      "\u001b[?25hCollecting grpcio>=1.8.6\n",
      "  Downloading grpcio-1.30.0-cp37-cp37m-manylinux2010_x86_64.whl (3.0 MB)\n",
      "\u001b[K     |████████████████████████████████| 3.0 MB 260 kB/s eta 0:00:01     |██████████████████████████      | 2.5 MB 260 kB/s eta 0:00:03\n",
      "\u001b[?25hRequirement already satisfied: six>=1.12.0 in /opt/conda/lib/python3.7/site-packages (from tensorflow) (1.15.0)\n",
      "Requirement already satisfied: wheel>=0.26; python_version >= \"3\" in /opt/conda/lib/python3.7/site-packages (from tensorflow) (0.34.2)\n",
      "Requirement already satisfied: numpy<2.0,>=1.16.0 in /opt/conda/lib/python3.7/site-packages (from tensorflow) (1.18.5)\n",
      "Requirement already satisfied: protobuf>=3.8.0 in /opt/conda/lib/python3.7/site-packages (from tensorflow) (3.11.4)\n",
      "Requirement already satisfied: h5py<2.11.0,>=2.10.0 in /opt/conda/lib/python3.7/site-packages (from tensorflow) (2.10.0)\n",
      "Collecting absl-py>=0.7.0\n",
      "  Downloading absl-py-0.9.0.tar.gz (104 kB)\n",
      "\u001b[K     |████████████████████████████████| 104 kB 337 kB/s eta 0:00:01\n",
      "\u001b[?25hCollecting wrapt>=1.11.1\n",
      "  Downloading wrapt-1.12.1.tar.gz (27 kB)\n",
      "Collecting google-pasta>=0.1.8\n",
      "  Downloading google_pasta-0.2.0-py3-none-any.whl (57 kB)\n",
      "\u001b[K     |████████████████████████████████| 57 kB 339 kB/s eta 0:00:01\n",
      "\u001b[?25hCollecting tensorboard<2.3.0,>=2.2.0\n",
      "  Downloading tensorboard-2.2.2-py3-none-any.whl (3.0 MB)\n",
      "\u001b[K     |████████████████████████████████| 3.0 MB 205 kB/s eta 0:00:01     |███████████████▎                | 1.4 MB 205 kB/s eta 0:00:08\n",
      "\u001b[?25hRequirement already satisfied: scipy==1.4.1; python_version >= \"3\" in /opt/conda/lib/python3.7/site-packages (from tensorflow) (1.4.1)\n",
      "Collecting opt-einsum>=2.3.2\n",
      "  Downloading opt_einsum-3.2.1-py3-none-any.whl (63 kB)\n",
      "\u001b[K     |████████████████████████████████| 63 kB 1.2 MB/s eta 0:00:011\n",
      "\u001b[?25hCollecting gast==0.3.3\n",
      "  Downloading gast-0.3.3-py2.py3-none-any.whl (9.7 kB)\n",
      "Collecting tensorflow-estimator<2.3.0,>=2.2.0\n",
      "  Downloading tensorflow_estimator-2.2.0-py2.py3-none-any.whl (454 kB)\n",
      "\u001b[K     |████████████████████████████████| 454 kB 563 kB/s eta 0:00:01\n",
      "\u001b[?25hCollecting termcolor>=1.1.0\n",
      "  Downloading termcolor-1.1.0.tar.gz (3.9 kB)\n",
      "Collecting astunparse==1.6.3\n",
      "  Downloading astunparse-1.6.3-py2.py3-none-any.whl (12 kB)\n",
      "Requirement already satisfied: setuptools in /opt/conda/lib/python3.7/site-packages (from protobuf>=3.8.0->tensorflow) (47.3.1.post20200616)\n",
      "Collecting markdown>=2.6.8\n",
      "  Downloading Markdown-3.2.2-py3-none-any.whl (88 kB)\n",
      "\u001b[K     |████████████████████████████████| 88 kB 1.2 MB/s eta 0:00:01\n",
      "\u001b[?25hRequirement already satisfied: requests<3,>=2.21.0 in /opt/conda/lib/python3.7/site-packages (from tensorboard<2.3.0,>=2.2.0->tensorflow) (2.24.0)\n",
      "Collecting google-auth<2,>=1.6.3\n",
      "  Downloading google_auth-1.18.0-py2.py3-none-any.whl (90 kB)\n",
      "\u001b[K     |████████████████████████████████| 90 kB 281 kB/s eta 0:00:01\n",
      "\u001b[?25hCollecting tensorboard-plugin-wit>=1.6.0\n",
      "  Downloading tensorboard_plugin_wit-1.6.0.post3-py3-none-any.whl (777 kB)\n",
      "\u001b[K     |████████████████████████████████| 777 kB 630 kB/s eta 0:00:01\n",
      "\u001b[?25hCollecting google-auth-oauthlib<0.5,>=0.4.1\n",
      "  Downloading google_auth_oauthlib-0.4.1-py2.py3-none-any.whl (18 kB)\n",
      "Collecting werkzeug>=0.11.15\n",
      "  Downloading Werkzeug-1.0.1-py2.py3-none-any.whl (298 kB)\n",
      "\u001b[K     |████████████████████████████████| 298 kB 1.1 MB/s eta 0:00:01\n",
      "\u001b[?25hRequirement already satisfied: importlib-metadata; python_version < \"3.8\" in /opt/conda/lib/python3.7/site-packages (from markdown>=2.6.8->tensorboard<2.3.0,>=2.2.0->tensorflow) (1.6.1)\n",
      "Requirement already satisfied: chardet<4,>=3.0.2 in /opt/conda/lib/python3.7/site-packages (from requests<3,>=2.21.0->tensorboard<2.3.0,>=2.2.0->tensorflow) (3.0.4)\n",
      "Requirement already satisfied: urllib3!=1.25.0,!=1.25.1,<1.26,>=1.21.1 in /opt/conda/lib/python3.7/site-packages (from requests<3,>=2.21.0->tensorboard<2.3.0,>=2.2.0->tensorflow) (1.25.9)\n",
      "Requirement already satisfied: idna<3,>=2.5 in /opt/conda/lib/python3.7/site-packages (from requests<3,>=2.21.0->tensorboard<2.3.0,>=2.2.0->tensorflow) (2.9)\n",
      "Requirement already satisfied: certifi>=2017.4.17 in /opt/conda/lib/python3.7/site-packages (from requests<3,>=2.21.0->tensorboard<2.3.0,>=2.2.0->tensorflow) (2020.4.5.2)\n",
      "Collecting rsa<5,>=3.1.4; python_version >= \"3\"\n",
      "  Downloading rsa-4.6-py3-none-any.whl (47 kB)\n",
      "\u001b[K     |████████████████████████████████| 47 kB 1.6 MB/s eta 0:00:01\n",
      "\u001b[?25hCollecting pyasn1-modules>=0.2.1\n",
      "  Downloading pyasn1_modules-0.2.8-py2.py3-none-any.whl (155 kB)\n",
      "\u001b[K     |████████████████████████████████| 155 kB 608 kB/s eta 0:00:01\n",
      "\u001b[?25hCollecting cachetools<5.0,>=2.0.0\n",
      "  Downloading cachetools-4.1.0-py3-none-any.whl (10 kB)\n",
      "Collecting requests-oauthlib>=0.7.0\n",
      "  Downloading requests_oauthlib-1.3.0-py2.py3-none-any.whl (23 kB)\n",
      "Requirement already satisfied: zipp>=0.5 in /opt/conda/lib/python3.7/site-packages (from importlib-metadata; python_version < \"3.8\"->markdown>=2.6.8->tensorboard<2.3.0,>=2.2.0->tensorflow) (3.1.0)\n",
      "Collecting pyasn1>=0.1.3\n",
      "  Downloading pyasn1-0.4.8-py2.py3-none-any.whl (77 kB)\n",
      "\u001b[K     |████████████████████████████████| 77 kB 949 kB/s eta 0:00:01\n",
      "\u001b[?25hRequirement already satisfied: oauthlib>=3.0.0 in /opt/conda/lib/python3.7/site-packages (from requests-oauthlib>=0.7.0->google-auth-oauthlib<0.5,>=0.4.1->tensorboard<2.3.0,>=2.2.0->tensorflow) (3.0.1)\n",
      "Building wheels for collected packages: absl-py, wrapt, termcolor\n",
      "  Building wheel for absl-py (setup.py) ... \u001b[?25ldone\n",
      "\u001b[?25h  Created wheel for absl-py: filename=absl_py-0.9.0-py3-none-any.whl size=121931 sha256=42a0b8f830ade0ce60cbc39f02705481b5d7aea9719c38d85fa95b7ee7ac909f\n",
      "  Stored in directory: /home/jovyan/.cache/pip/wheels/cc/af/1a/498a24d0730ef484019e007bb9e8cef3ac00311a672c049a3e\n",
      "  Building wheel for wrapt (setup.py) ... \u001b[?25ldone\n",
      "\u001b[?25h  Created wheel for wrapt: filename=wrapt-1.12.1-cp37-cp37m-linux_x86_64.whl size=77171 sha256=653bf0ac0ae58781721a3b74f364958ea8ff7ddb1845f8266ca2506b9208ceae\n",
      "  Stored in directory: /home/jovyan/.cache/pip/wheels/62/76/4c/aa25851149f3f6d9785f6c869387ad82b3fd37582fa8147ac6\n",
      "  Building wheel for termcolor (setup.py) ... \u001b[?25ldone\n",
      "\u001b[?25h  Created wheel for termcolor: filename=termcolor-1.1.0-py3-none-any.whl size=4830 sha256=e904611b8419efbbdd6219fbc003fcac19b72833d8063ccfc5fae183744953b1\n",
      "  Stored in directory: /home/jovyan/.cache/pip/wheels/3f/e3/ec/8a8336ff196023622fbcb36de0c5a5c218cbb24111d1d4c7f2\n",
      "Successfully built absl-py wrapt termcolor\n",
      "Installing collected packages: keras-preprocessing, grpcio, absl-py, wrapt, google-pasta, markdown, pyasn1, rsa, pyasn1-modules, cachetools, google-auth, tensorboard-plugin-wit, requests-oauthlib, google-auth-oauthlib, werkzeug, tensorboard, opt-einsum, gast, tensorflow-estimator, termcolor, astunparse, tensorflow\n",
      "Successfully installed absl-py-0.9.0 astunparse-1.6.3 cachetools-4.1.0 gast-0.3.3 google-auth-1.18.0 google-auth-oauthlib-0.4.1 google-pasta-0.2.0 grpcio-1.30.0 keras-preprocessing-1.1.2 markdown-3.2.2 opt-einsum-3.2.1 pyasn1-0.4.8 pyasn1-modules-0.2.8 requests-oauthlib-1.3.0 rsa-4.6 tensorboard-2.2.2 tensorboard-plugin-wit-1.6.0.post3 tensorflow-2.2.0 tensorflow-estimator-2.2.0 termcolor-1.1.0 werkzeug-1.0.1 wrapt-1.12.1\n"
     ]
    }
   ],
   "source": [
    "!pip install tensorflow\n",
    "import tensorflow as tf"
   ]
  },
  {
   "cell_type": "code",
   "execution_count": 5,
   "metadata": {
    "colab": {},
    "colab_type": "code",
    "id": "y_WQEM5MGmg3"
   },
   "outputs": [],
   "source": [
    "import numpy as np\n",
    "import logging\n",
    "logger = tf.get_logger()\n",
    "logger.setLevel(logging.ERROR)"
   ]
  },
  {
   "cell_type": "markdown",
   "metadata": {
    "colab_type": "text",
    "id": "AC3EQFi20buB"
   },
   "source": [
    "## Set up training data\n",
    "\n",
    "As we saw before, supervised Machine Learning is all about figuring out an algorithm given a set of inputs and outputs. Since the task in this Codelab is to create a model that can give the temperature in Fahrenheit when given the degrees in Celsius, we create two lists `celsius_q` and `fahrenheit_a` that we can use to train our model."
   ]
  },
  {
   "cell_type": "code",
   "execution_count": 6,
   "metadata": {
    "colab": {},
    "colab_type": "code",
    "id": "gg4pn6aI1vms"
   },
   "outputs": [
    {
     "name": "stdout",
     "output_type": "stream",
     "text": [
      "-40.0 degrees Celsius = -40.0 degrees Fahrenheit\n",
      "-10.0 degrees Celsius = 14.0 degrees Fahrenheit\n",
      "0.0 degrees Celsius = 32.0 degrees Fahrenheit\n",
      "8.0 degrees Celsius = 46.0 degrees Fahrenheit\n",
      "15.0 degrees Celsius = 59.0 degrees Fahrenheit\n",
      "22.0 degrees Celsius = 72.0 degrees Fahrenheit\n",
      "38.0 degrees Celsius = 100.0 degrees Fahrenheit\n"
     ]
    }
   ],
   "source": [
    "celsius_q    = np.array([-40, -10,  0,  8, 15, 22,  38],  dtype=float)\n",
    "fahrenheit_a = np.array([-40,  14, 32, 46, 59, 72, 100],  dtype=float)\n",
    "\n",
    "for i,c in enumerate(celsius_q):\n",
    "  print(\"{} degrees Celsius = {} degrees Fahrenheit\".format(c, fahrenheit_a[i]))"
   ]
  },
  {
   "cell_type": "markdown",
   "metadata": {
    "colab_type": "text",
    "id": "wwJGmDrQ0EoB"
   },
   "source": [
    "### Some Machine Learning terminology\n",
    "\n",
    " - **Feature** — The input(s) to our model. In this case, a single value — the degrees in Celsius.\n",
    "\n",
    " - **Labels** — The output our model predicts. In this case, a single value — the degrees in Fahrenheit.\n",
    "\n",
    " - **Example** — A pair of inputs/outputs used during training. In our case a pair of values from `celsius_q` and `fahrenheit_a` at a specific index, such as `(22,72)`.\n"
   ]
  },
  {
   "cell_type": "markdown",
   "metadata": {
    "colab_type": "text",
    "id": "VM7_9Klvq7MO"
   },
   "source": [
    "## Create the model\n",
    "\n",
    "Next, create the model. We will use the simplest possible model we can, a Dense network. Since the problem is straightforward, this network will require only a single layer, with a single neuron.\n",
    "\n",
    "### Build a layer\n",
    "\n",
    "We'll call the layer `l0` and create it by instantiating `tf.keras.layers.Dense` with the following configuration:\n",
    "\n",
    "*   `input_shape=[1]` — This specifies that the input to this layer is a single value. That is, the shape is a one-dimensional array with one member. Since this is the first (and only) layer, that input shape is the input shape of the entire model. The single value is a floating point number, representing degrees Celsius.\n",
    "\n",
    "*   `units=1` — This specifies the number of neurons in the layer. The number of neurons defines how many internal variables the layer has to try to learn how to solve the problem (more later). Since this is the final layer, it is also the size of the model's output — a single float value representing degrees Fahrenheit. (In a multi-layered network, the size and shape of the layer would need to match the `input_shape` of the next layer.)\n"
   ]
  },
  {
   "cell_type": "code",
   "execution_count": 7,
   "metadata": {
    "colab": {},
    "colab_type": "code",
    "id": "pRllo2HLfXiu"
   },
   "outputs": [],
   "source": [
    "l0 = tf.keras.layers.Dense(units=1, input_shape=[1])"
   ]
  },
  {
   "cell_type": "markdown",
   "metadata": {
    "colab_type": "text",
    "id": "_F00_J9duLBD"
   },
   "source": [
    "### Assemble layers into the model\n",
    "\n",
    "Once layers are defined, they need to be assembled into a model. The Sequential model definition takes a list of layers as an argument, specifying the calculation order from the input to the output.\n",
    "\n",
    "This model has just a single layer, l0."
   ]
  },
  {
   "cell_type": "code",
   "execution_count": 8,
   "metadata": {
    "colab": {},
    "colab_type": "code",
    "id": "cSp-GpLSuMRq"
   },
   "outputs": [],
   "source": [
    "model = tf.keras.Sequential([l0])"
   ]
  },
  {
   "cell_type": "markdown",
   "metadata": {
    "colab_type": "text",
    "id": "t7pfHfWxust0"
   },
   "source": [
    "**Note**\n",
    "\n",
    "You will often see the layers defined inside the model definition, rather than beforehand:\n",
    "\n",
    "```python\n",
    "model = tf.keras.Sequential([\n",
    "  tf.keras.layers.Dense(units=1, input_shape=[1])\n",
    "])\n",
    "```"
   ]
  },
  {
   "cell_type": "markdown",
   "metadata": {
    "colab_type": "text",
    "id": "kiZG7uhm8qCF"
   },
   "source": [
    "## Compile the model, with loss and optimizer functions\n",
    "\n",
    "Before training, the model has to be compiled. When compiled for training, the model is given:\n",
    "\n",
    "- **Loss function** — A way of measuring how far off predictions are from the desired outcome. (The measured difference is called the \"loss\".)\n",
    "\n",
    "- **Optimizer function** — A way of adjusting internal values in order to reduce the loss.\n"
   ]
  },
  {
   "cell_type": "code",
   "execution_count": 9,
   "metadata": {
    "colab": {},
    "colab_type": "code",
    "id": "m8YQN1H41L-Y"
   },
   "outputs": [],
   "source": [
    "model.compile(loss='mean_squared_error',\n",
    "              optimizer=tf.keras.optimizers.Adam(0.1))"
   ]
  },
  {
   "cell_type": "markdown",
   "metadata": {
    "colab_type": "text",
    "id": "17M3Pqv4P52R"
   },
   "source": [
    "These are used during training (`model.fit()`, below) to first calculate the loss at each point, and then improve it. In fact, the act of calculating the current loss of a model and then improving it is precisely what training is.\n",
    "\n",
    "During training, the optimizer function is used to calculate adjustments to the model's internal variables. The goal is to adjust the internal variables until the model (which is really a math function) mirrors the actual equation for converting Celsius to Fahrenheit.\n",
    "\n",
    "TensorFlow uses numerical analysis to perform this tuning, and all this complexity is hidden from you so we will not go into the details here. What is useful to know about these parameters are:\n",
    "\n",
    "The loss function ([mean squared error](https://en.wikipedia.org/wiki/Mean_squared_error)) and the optimizer ([Adam](https://machinelearningmastery.com/adam-optimization-algorithm-for-deep-learning/)) used here are standard for simple models like this one, but many others are available. It is not important to know how these specific functions work at this point.\n",
    "\n",
    "One part of the Optimizer you may need to think about when building your own models is the learning rate (`0.1` in the code above). This is the step size taken when adjusting values in the model. If the value is too small, it will take too many iterations to train the model. Too large, and accuracy goes down. Finding a good value often involves some trial and error, but the range is usually within 0.001 (default), and 0.1"
   ]
  },
  {
   "cell_type": "markdown",
   "metadata": {
    "colab_type": "text",
    "id": "c-Jk4dG91dvD"
   },
   "source": [
    "## Train the model\n",
    "\n",
    "Train the model by calling the `fit` method.\n",
    "\n",
    "During training, the model takes in Celsius values, performs a calculation using the current internal variables (called \"weights\") and outputs values which are meant to be the Fahrenheit equivalent. Since the weights are initially set randomly, the output will not be close to the correct value. The difference between the actual output and the desired output is calculated using the loss function, and the optimizer function directs how the weights should be adjusted.\n",
    "\n",
    "This cycle of calculate, compare, adjust is controlled by the `fit` method. The first argument is the inputs, the second argument is the desired outputs. The `epochs` argument specifies how many times this cycle should be run, and the `verbose` argument controls how much output the method produces."
   ]
  },
  {
   "cell_type": "code",
   "execution_count": 10,
   "metadata": {
    "colab": {},
    "colab_type": "code",
    "id": "lpRrl7WK10Pq"
   },
   "outputs": [
    {
     "name": "stdout",
     "output_type": "stream",
     "text": [
      "Finished training the model\n"
     ]
    }
   ],
   "source": [
    "history = model.fit(celsius_q, fahrenheit_a, epochs=500, verbose=False)\n",
    "print(\"Finished training the model\")"
   ]
  },
  {
   "cell_type": "markdown",
   "metadata": {
    "colab_type": "text",
    "id": "GFcIU2-SdCrI"
   },
   "source": [
    "In later videos, we will go into more detail on what actually happens here and how a Dense layer actually works internally."
   ]
  },
  {
   "cell_type": "markdown",
   "metadata": {
    "colab_type": "text",
    "id": "0-QsNCLD4MJZ"
   },
   "source": [
    "## Display training statistics\n",
    "\n",
    "The `fit` method returns a history object. We can use this object to plot how the loss of our model goes down after each training epoch. A high loss means that the Fahrenheit degrees the model predicts is far from the corresponding value in `fahrenheit_a`.\n",
    "\n",
    "We'll use [Matplotlib](https://matplotlib.org/) to visualize this (you could use another tool). As you can see, our model improves very quickly at first, and then has a steady, slow improvement until it is very near \"perfect\" towards the end.\n"
   ]
  },
  {
   "cell_type": "code",
   "execution_count": 11,
   "metadata": {
    "colab": {},
    "colab_type": "code",
    "id": "IeK6BzfbdO6_"
   },
   "outputs": [
    {
     "data": {
      "text/plain": [
       "[<matplotlib.lines.Line2D at 0x7f294c0ce210>]"
      ]
     },
     "execution_count": 11,
     "metadata": {},
     "output_type": "execute_result"
    },
    {
     "data": {
      "image/png": "[encoded data removed]",
      "text/plain": [
       "<Figure size 432x288 with 1 Axes>"
      ]
     },
     "metadata": {
      "needs_background": "light"
     },
     "output_type": "display_data"
    }
   ],
   "source": [
    "import matplotlib.pyplot as plt\n",
    "plt.xlabel('Epoch Number')\n",
    "plt.ylabel(\"Loss Magnitude\")\n",
    "plt.plot(history.history['loss'])"
   ]
  },
  {
   "cell_type": "markdown",
   "metadata": {
    "colab_type": "text",
    "id": "LtQGDMob5LOD"
   },
   "source": [
    "## Use the model to predict values\n",
    "\n",
    "Now you have a model that has been trained to learn the relationship between `celsius_q` and `fahrenheit_a`. You can use the predict method to have it calculate the Fahrenheit degrees for a previously unknown Celsius degrees.\n",
    "\n",
    "So, for example, if the Celsius value is 100, what do you think the Fahrenheit result will be? Take a guess before you run this code."
   ]
  },
  {
   "cell_type": "code",
   "execution_count": 12,
   "metadata": {
    "colab": {},
    "colab_type": "code",
    "id": "oxNzL4lS2Gui"
   },
   "outputs": [
    {
     "name": "stdout",
     "output_type": "stream",
     "text": [
      "[[211.27066]]\n"
     ]
    }
   ],
   "source": [
    "print(model.predict([100.0]))"
   ]
  },
  {
   "cell_type": "markdown",
   "metadata": {
    "colab_type": "text",
    "id": "jApk6tZ1fBg1"
   },
   "source": [
    "The correct answer is $100 \\times 1.8 + 32 = 212$, so our model is doing really well.\n",
    "\n",
    "### To review\n",
    "\n",
    "\n",
    "*   We created a model with a Dense layer\n",
    "*   We trained it with 3500 examples (7 pairs, over 500 epochs).\n",
    "\n",
    "Our model tuned the variables (weights) in the Dense layer until it was able to return the correct Fahrenheit value for any Celsius value. (Remember, 100 Celsius was not part of our training data.)\n"
   ]
  },
  {
   "cell_type": "markdown",
   "metadata": {
    "colab_type": "text",
    "id": "zRrOky5gm20Z"
   },
   "source": [
    "## Looking at the layer weights\n",
    "\n",
    "Finally, let's print the internal variables of the Dense layer. "
   ]
  },
  {
   "cell_type": "code",
   "execution_count": 13,
   "metadata": {
    "colab": {},
    "colab_type": "code",
    "id": "kmIkVdkbnZJI"
   },
   "outputs": [
    {
     "name": "stdout",
     "output_type": "stream",
     "text": [
      "These are the layer variables: [array([[1.8299688]], dtype=float32), array([28.27378], dtype=float32)]\n"
     ]
    }
   ],
   "source": [
    "print(\"These are the layer variables: {}\".format(l0.get_weights()))"
   ]
  },
  {
   "cell_type": "markdown",
   "metadata": {
    "colab_type": "text",
    "id": "RSplSnMvnWC-"
   },
   "source": [
    "The first variable is close to ~1.8 and the second to ~32. These values (1.8 and 32) are the actual variables in the real conversion formula.\n",
    "\n",
    "This is really close to the values in the conversion formula. We'll explain this in an upcoming video where we show how a Dense layer works, but for a single neuron with a single input and a single output, the internal math looks the same as [the equation for a line](https://en.wikipedia.org/wiki/Linear_equation#Slope%E2%80%93intercept_form), $y = mx + b$, which has the same form as the conversion equation, $f = 1.8c + 32$.\n",
    "\n",
    "Since the form is the same, the variables should converge on the standard values of 1.8 and 32, which is exactly what happened.\n",
    "\n",
    "With additional neurons, additional inputs, and additional outputs, the formula becomes much more complex, but the idea is the same.\n",
    "\n",
    "### A little experiment\n",
    "\n",
    "Just for fun, what if we created more Dense layers with different units, which therefore also has more variables?"
   ]
  },
  {
   "cell_type": "code",
   "execution_count": 14,
   "metadata": {
    "colab": {},
    "colab_type": "code",
    "id": "Y2zTA-rDS5Xk"
   },
   "outputs": [
    {
     "name": "stdout",
     "output_type": "stream",
     "text": [
      "Finished training the model\n",
      "[[211.74747]]\n",
      "Model predicts that 100 degrees Celsius is: [[211.74747]] degrees Fahrenheit\n",
      "These are the l0 variables: [array([[-0.37037784,  0.34164244, -0.44264716, -0.5008475 ]],\n",
      "      dtype=float32), array([ 0.6590364, -2.2490637, -3.088445 , -3.3101296], dtype=float32)]\n",
      "These are the l1 variables: [array([[ 0.8379481 ,  0.2517502 , -0.4730765 , -0.4420906 ],\n",
      "       [-0.49636623,  0.66747856,  0.38704672,  0.68306774],\n",
      "       [-1.0379937 ,  1.1903715 ,  0.46644717,  0.7038029 ],\n",
      "       [-1.1001927 ,  0.9159764 , -0.188522  , -0.28337848]],\n",
      "      dtype=float32), array([ 3.2234933, -3.0962343,  2.0528731,  1.633281 ], dtype=float32)]\n",
      "These are the l2 variables: [array([[ 1.2302865 ],\n",
      "       [-1.2979157 ],\n",
      "       [ 0.18467683],\n",
      "       [ 0.02089361]], dtype=float32), array([3.070602], dtype=float32)]\n"
     ]
    }
   ],
   "source": [
    "l0 = tf.keras.layers.Dense(units=4, input_shape=[1])\n",
    "l1 = tf.keras.layers.Dense(units=4)\n",
    "l2 = tf.keras.layers.Dense(units=1)\n",
    "model = tf.keras.Sequential([l0, l1, l2])\n",
    "model.compile(loss='mean_squared_error', optimizer=tf.keras.optimizers.Adam(0.1))\n",
    "model.fit(celsius_q, fahrenheit_a, epochs=500, verbose=False)\n",
    "print(\"Finished training the model\")\n",
    "print(model.predict([100.0]))\n",
    "print(\"Model predicts that 100 degrees Celsius is: {} degrees Fahrenheit\".format(model.predict([100.0])))\n",
    "print(\"These are the l0 variables: {}\".format(l0.get_weights()))\n",
    "print(\"These are the l1 variables: {}\".format(l1.get_weights()))\n",
    "print(\"These are the l2 variables: {}\".format(l2.get_weights()))"
   ]
  },
  {
   "cell_type": "markdown",
   "metadata": {
    "colab_type": "text",
    "id": "xrpFFlgYhCty"
   },
   "source": [
    "As you can see, this model is also able to predict the corresponding Fahrenheit value really well. But when you look at the variables (weights) in the `l0` and `l1` layers, they are nothing even close to ~1.8 and ~32. The added complexity hides the \"simple\" form of the conversion equation.\n",
    "\n",
    "Stay tuned for the upcoming video on how Dense layers work for the explanation."
   ]
  }
 ],
 "metadata": {
  "accelerator": "TPU",
  "colab": {
   "collapsed_sections": [],
   "name": "l02c01_celsius_to_fahrenheit.ipynb",
   "private_outputs": true,
   "provenance": []
  },
  "kernelspec": {
   "display_name": "Python 3",
   "language": "python",
   "name": "python3"
  },
  "language_info": {
   "codemirror_mode": {
    "name": "ipython",
    "version": 3
   },
   "file_extension": ".py",
   "mimetype": "text/x-python",
   "name": "python",
   "nbconvert_exporter": "python",
   "pygments_lexer": "ipython3",
   "version": "3.7.6"
  }
 },
 "nbformat": 4,
 "nbformat_minor": 4
}
